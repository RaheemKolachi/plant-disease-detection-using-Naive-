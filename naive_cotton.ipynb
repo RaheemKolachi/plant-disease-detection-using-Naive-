{
  "nbformat": 4,
  "nbformat_minor": 0,
  "metadata": {
    "colab": {
      "name": "naive_cotton.ipynb",
      "provenance": [],
      "collapsed_sections": []
    },
    "kernelspec": {
      "name": "python3",
      "display_name": "Python 3"
    },
    "language_info": {
      "name": "python"
    },
    "accelerator": "GPU",
    "gpuClass": "standard"
  },
  "cells": [
    {
      "cell_type": "code",
      "execution_count": 13,
      "metadata": {
        "id": "y-9-jjwz3J7A"
      },
      "outputs": [],
      "source": [
        "from sklearn.naive_bayes import GaussianNB\n",
        "from sklearn.model_selection import train_test_split\n",
        "import os\n",
        "from sklearn.model_selection import GridSearchCV\n",
        "from imutils import paths\n",
        "import pandas as pd\n",
        "import numpy as np\n",
        "import matplotlib.pyplot as plt\n",
        "import cv2"
      ]
    },
    {
      "cell_type": "code",
      "source": [
        "def imgm(img,size=(32,32)):\n",
        "    img=cv2.resize(img,size)\n",
        "    pix=img.flatten()\n",
        "    return pix"
      ],
      "metadata": {
        "id": "DVVQnRIg3YdL"
      },
      "execution_count": 14,
      "outputs": []
    },
    {
      "cell_type": "code",
      "source": [
        "path=list(paths.list_images(\"/content/drive/MyDrive/Colab Notebooks/DataSets\"))\n",
        "IMG=[]\n",
        "label=[]\n",
        "\n",
        "for (i, image_path) in enumerate(path):\n",
        "    image = cv2.imread(image_path)\n",
        "    lab = image_path.split(os.path.sep)[-2].split(\".\")[0]\n",
        "    # extract raw pixel intensity \"features\n",
        "    pixels = imgm(image)\n",
        "    IMG.append(pixels)\n",
        "    label.append(lab)\n",
        "\n",
        "x = np.array(IMG)\n",
        "y = np.array(label)\n"
      ],
      "metadata": {
        "id": "AShhn0vr3dhL"
      },
      "execution_count": 15,
      "outputs": []
    },
    {
      "cell_type": "code",
      "source": [
        "_=plt.plot(x,y,\"ro\")\n"
      ],
      "metadata": {
        "colab": {
          "base_uri": "https://localhost:8080/",
          "height": 265
        },
        "id": "zgaRe6Ksoh91",
        "outputId": "c70defac-8ef0-4567-c4f7-df0914073a5e"
      },
      "execution_count": 17,
      "outputs": [
        {
          "output_type": "display_data",
          "data": {
            "text/plain": [
              "<Figure size 432x288 with 1 Axes>"
            ],
            "image/png": "[encoded data removed]"
          },
          "metadata": {
            "needs_background": "light"
          }
        }
      ]
    },
    {
      "cell_type": "code",
      "source": [
        "from google.colab import drive\n",
        "drive.mount('/content/drive')"
      ],
      "metadata": {
        "colab": {
          "base_uri": "https://localhost:8080/"
        },
        "id": "F9ptZ08stsDj",
        "outputId": "2e02a1f0-3cfe-4cf2-cefd-bd464dc1edda"
      },
      "execution_count": 12,
      "outputs": [
        {
          "output_type": "stream",
          "name": "stdout",
          "text": [
            "Mounted at /content/drive\n"
          ]
        }
      ]
    },
    {
      "cell_type": "code",
      "source": [
        "sv=GaussianNB()\n",
        "params_NB = {'var_smoothing': np.logspace(0,-9, num=100)}\n",
        "model= GridSearchCV(estimator=sv, param_grid=params_NB, verbose=1, scoring='accuracy') \n"
      ],
      "metadata": {
        "id": "5FQjFElB43HD"
      },
      "execution_count": 20,
      "outputs": []
    },
    {
      "cell_type": "code",
      "source": [
        "xtrain,xtest,ytrain,ytest=train_test_split(x,y,test_size=0.2)\n",
        "model.fit(xtrain,ytrain)\n"
      ],
      "metadata": {
        "colab": {
          "base_uri": "https://localhost:8080/"
        },
        "id": "y8CvR0sn48P6",
        "outputId": "b6e7e9a6-4630-4444-c178-f846e3e688f3"
      },
      "execution_count": 21,
      "outputs": [
        {
          "output_type": "stream",
          "name": "stdout",
          "text": [
            "Fitting 5 folds for each of 100 candidates, totalling 500 fits\n"
          ]
        },
        {
          "output_type": "execute_result",
          "data": {
            "text/plain": [
              "GridSearchCV(estimator=GaussianNB(),\n",
              "             param_grid={'var_smoothing': array([1.00000000e+00, 8.11130831e-01, 6.57933225e-01, 5.33669923e-01,\n",
              "       4.32876128e-01, 3.51119173e-01, 2.84803587e-01, 2.31012970e-01,\n",
              "       1.87381742e-01, 1.51991108e-01, 1.23284674e-01, 1.00000000e-01,\n",
              "       8.11130831e-02, 6.57933225e-02, 5.33669923e-02, 4.32876128e-02,\n",
              "       3.51119173e-02, 2.84803587e-02, 2.3101297...\n",
              "       1.23284674e-07, 1.00000000e-07, 8.11130831e-08, 6.57933225e-08,\n",
              "       5.33669923e-08, 4.32876128e-08, 3.51119173e-08, 2.84803587e-08,\n",
              "       2.31012970e-08, 1.87381742e-08, 1.51991108e-08, 1.23284674e-08,\n",
              "       1.00000000e-08, 8.11130831e-09, 6.57933225e-09, 5.33669923e-09,\n",
              "       4.32876128e-09, 3.51119173e-09, 2.84803587e-09, 2.31012970e-09,\n",
              "       1.87381742e-09, 1.51991108e-09, 1.23284674e-09, 1.00000000e-09])},\n",
              "             scoring='accuracy', verbose=1)"
            ]
          },
          "metadata": {},
          "execution_count": 21
        }
      ]
    },
    {
      "cell_type": "code",
      "source": [
        "pred=model.predict(xtest)\n",
        "from sklearn.metrics import accuracy_score\n",
        "accuracy_score(ytest,pred)"
      ],
      "metadata": {
        "id": "O_QtQDAY5I7_",
        "colab": {
          "base_uri": "https://localhost:8080/"
        },
        "outputId": "b6fa71c8-2f85-45fc-fae1-0680e0fb4b5c"
      },
      "execution_count": 26,
      "outputs": [
        {
          "output_type": "execute_result",
          "data": {
            "text/plain": [
              "0.7225433526011561"
            ]
          },
          "metadata": {},
          "execution_count": 26
        }
      ]
    },
    {
      "cell_type": "code",
      "source": [
        "_=plt.plot(xtest,ytest,\"ro\",xtest,pred,\"--k\")"
      ],
      "metadata": {
        "colab": {
          "base_uri": "https://localhost:8080/",
          "height": 265
        },
        "id": "uDEhi6k-paP2",
        "outputId": "27eebf8a-db47-49c6-cf4a-2c4747f1c931"
      },
      "execution_count": 23,
      "outputs": [
        {
          "output_type": "display_data",
          "data": {
            "text/plain": [
              "<Figure size 432x288 with 1 Axes>"
            ],
            "image/png": "[encoded data removed]"
          },
          "metadata": {
            "needs_background": "light"
          }
        }
      ]
    },
    {
      "cell_type": "code",
      "source": [
        "from sklearn.metrics import confusion_matrix\n",
        "import seaborn as ss\n",
        "con=confusion_matrix(ytest,pred)\n",
        "imgs=ss.heatmap(con,annot=True,yticklabels=\"CB\",xticklabels=\"CB\")\n"
      ],
      "metadata": {
        "colab": {
          "base_uri": "https://localhost:8080/",
          "height": 265
        },
        "id": "oOnDunxp2U9S",
        "outputId": "9134fb7e-ed35-4859-939e-6be31ef95e8d"
      },
      "execution_count": 24,
      "outputs": [
        {
          "output_type": "display_data",
          "data": {
            "text/plain": [
              "<Figure size 432x288 with 2 Axes>"
            ],
            "image/png": "[encoded data removed]"
          },
          "metadata": {
            "needs_background": "light"
          }
        }
      ]
    },
    {
      "cell_type": "code",
      "source": [
        "figure = imgs.get_figure()    \n",
        "figure.savefig('confusion naive bayes.png', dpi=400)"
      ],
      "metadata": {
        "id": "8_6DhuCogIV_"
      },
      "execution_count": 27,
      "outputs": []
    },
    {
      "cell_type": "code",
      "source": [
        ""
      ],
      "metadata": {
        "id": "h8qwtprSpMDh"
      },
      "execution_count": null,
      "outputs": []
    },
    {
      "cell_type": "code",
      "source": [
        "from sklearn.metrics import classification_report\n",
        "report=classification_report(ytest,pred)\n",
        "print(report)"
      ],
      "metadata": {
        "id": "7XMrD-WW2r7L",
        "colab": {
          "base_uri": "https://localhost:8080/"
        },
        "outputId": "efe0bbd1-d9b8-4202-a1c9-359262e0db69"
      },
      "execution_count": 28,
      "outputs": [
        {
          "output_type": "stream",
          "name": "stdout",
          "text": [
            "                  precision    recall  f1-score   support\n",
            "\n",
            "bacterial_blight       0.69      0.91      0.79        97\n",
            "      curl_virus       0.80      0.49      0.61        76\n",
            "\n",
            "        accuracy                           0.72       173\n",
            "       macro avg       0.75      0.70      0.70       173\n",
            "    weighted avg       0.74      0.72      0.71       173\n",
            "\n"
          ]
        }
      ]
    }
  ]
}